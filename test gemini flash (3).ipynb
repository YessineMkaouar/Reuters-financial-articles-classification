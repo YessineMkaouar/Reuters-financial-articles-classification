{
 "cells": [
  {
   "cell_type": "markdown",
   "id": "4e77b8f4",
   "metadata": {},
   "source": []
  },
  {
   "cell_type": "markdown",
   "id": "2d2b9345",
   "metadata": {},
   "source": [
    "# Importing Libraries"
   ]
  },
  {
   "cell_type": "code",
   "execution_count": null,
   "id": "1addeba3-0a1b-4a9d-848d-dc61e9d336fb",
   "metadata": {
    "collapsed": true,
    "jupyter": {
     "outputs_hidden": true
    },
    "tags": []
   },
   "outputs": [],
   "source": [
    "pip install --user -U nltk"
   ]
  },
  {
   "cell_type": "code",
   "execution_count": null,
   "id": "29783c12-1185-456c-89cc-e51d5cf63d2d",
   "metadata": {
    "collapsed": true,
    "jupyter": {
     "outputs_hidden": true
    },
    "tags": []
   },
   "outputs": [],
   "source": [
    "from bs4 import BeautifulSoup\n",
    "from tqdm import tqdm\n",
    "import os\n",
    "import pandas as pd\n",
    "from collections import Counter\n",
    "from sklearn.feature_extraction.text import TfidfVectorizer\n",
    "import nltk\n",
    "nltk.download('punkt')\n",
    "nltk.download('punkt_tab')\n",
    "nltk.download('stopwords')\n",
    "nltk.download('averaged_perceptron_tagger_eng')\n",
    "nltk.download('wordnet')\n",
    "from nltk.corpus import stopwords\n",
    "from nltk.tokenize import word_tokenize\n",
    "from nltk.stem import WordNetLemmatizer\n",
    "from nltk.corpus import wordnet\n",
    "from sklearn.naive_bayes import MultinomialNB\n",
    "from sklearn.linear_model import LogisticRegression\n",
    "from sklearn.pipeline import make_pipeline\n",
    "from sklearn.metrics import classification_report, accuracy_score\n",
    "from sklearn.metrics import confusion_matrix, ConfusionMatrixDisplay\n",
    "from sklearn.ensemble import RandomForestClassifier\n",
    "from sklearn.svm import SVC\n",
    "from sklearn.neural_network import MLPClassifier\n",
    "from sklearn.preprocessing import LabelEncoder\n",
    "from xgboost import XGBClassifier\n",
    "import matplotlib.pyplot as plt\n",
    "import random"
   ]
  },
  {
   "cell_type": "markdown",
   "id": "34939151",
   "metadata": {},
   "source": [
    "# Data Extraction / Exploration"
   ]
  },
  {
   "cell_type": "code",
   "execution_count": 3,
   "id": "b15cee2d-2868-4210-bbb2-3864492f1dce",
   "metadata": {
    "tags": []
   },
   "outputs": [],
   "source": [
    "def parse_reuters_sgm(file_path):\n",
    "\n",
    "    with open(file_path, 'r', encoding='latin-1') as file:\n",
    "        data = file.read()\n",
    "    \n",
    "    soup = BeautifulSoup(data, 'html.parser')\n",
    "    articles = []\n",
    "\n",
    "    for reuters in soup.find_all('reuters'):\n",
    "\n",
    "        # Extract TITLE\n",
    "        title = reuters.find('title').text if reuters.find('title') else None\n",
    "\n",
    "        # Extract LEWISSPLIT attribute\n",
    "        lewissplit = reuters.get('lewissplit', 'UNKNOWN')\n",
    "\n",
    "        # Extract PLACES\n",
    "        places = [d.text for d in reuters.find('places').find_all('d')] if reuters.find('places') else []\n",
    "\n",
    "        # Extract DATE\n",
    "        date = reuters.find('date').text if reuters.find('date') else None\n",
    "\n",
    "        # Extract DATELINE\n",
    "        dateline = reuters.find('dateline').text if reuters.find('dateline') else None\n",
    "\n",
    "        # Extract BODY\n",
    "        body = reuters.find('text').body.text if reuters.find('text') and reuters.find('text').body else None\n",
    "\n",
    "        # Extract TOPICS\n",
    "        topics = [d.text for d in reuters.find('topics').find_all('d')] if reuters.find('topics') else []\n",
    "\n",
    "        # Append all extracted features to articles list\n",
    "        articles.append({\n",
    "            'TITLE': title,\n",
    "            'LEWISSPLIT': lewissplit,\n",
    "            'PLACES': places,\n",
    "            'DATE': date,\n",
    "            'DATELINE': dateline,\n",
    "            'BODY': body,\n",
    "            'TOPICS': topics\n",
    "        })\n",
    "    \n",
    "    return articles\n",
    "\n",
    "def process_all_sgm_files(directory_path):\n",
    "    \"\"\"\n",
    "    Process all .sgm files in a directory and combine the data into a single DataFrame.\n",
    "    \"\"\"\n",
    "    all_articles = []\n",
    "    for file_name in os.listdir(directory_path):\n",
    "        if file_name.endswith('.sgm'):\n",
    "            file_path = os.path.join(directory_path, file_name)\n",
    "            articles = parse_reuters_sgm(file_path)\n",
    "            all_articles.extend(articles)\n",
    "    \n",
    "    return pd.DataFrame(all_articles)\n"
   ]
  },
  {
   "cell_type": "code",
   "execution_count": 13,
   "id": "cff86869-89e1-4763-961d-7dbf1bb96121",
   "metadata": {
    "tags": []
   },
   "outputs": [],
   "source": [
    "# Directory containing the .sgm files\n",
    "directory = 'reuters21578'\n",
    "\n",
    "# Process all .sgm files and create a DataFrame\n",
    "df = process_all_sgm_files(directory)"
   ]
  },
  {
   "cell_type": "code",
   "execution_count": 14,
   "id": "560b78b8-ff99-4473-8139-6b902aedf132",
   "metadata": {
    "tags": []
   },
   "outputs": [
    {
     "data": {
      "text/html": [
       "<div>\n",
       "<style scoped>\n",
       "    .dataframe tbody tr th:only-of-type {\n",
       "        vertical-align: middle;\n",
       "    }\n",
       "\n",
       "    .dataframe tbody tr th {\n",
       "        vertical-align: top;\n",
       "    }\n",
       "\n",
       "    .dataframe thead th {\n",
       "        text-align: right;\n",
       "    }\n",
       "</style>\n",
       "<table border=\"1\" class=\"dataframe\">\n",
       "  <thead>\n",
       "    <tr style=\"text-align: right;\">\n",
       "      <th></th>\n",
       "      <th>TITLE</th>\n",
       "      <th>LEWISSPLIT</th>\n",
       "      <th>PLACES</th>\n",
       "      <th>DATE</th>\n",
       "      <th>DATELINE</th>\n",
       "      <th>BODY</th>\n",
       "      <th>TOPICS</th>\n",
       "    </tr>\n",
       "  </thead>\n",
       "  <tbody>\n",
       "    <tr>\n",
       "      <th>10105</th>\n",
       "      <td>LANDMARK SAVINGS &lt;LSA&gt; TO REPURCHASE SHARES</td>\n",
       "      <td>TRAIN</td>\n",
       "      <td>[usa]</td>\n",
       "      <td>2-APR-1987 09:27:12.03</td>\n",
       "      <td>PITTSBURGH, April 2 -</td>\n",
       "      <td>Landmark Savings Association said its\\nboard h...</td>\n",
       "      <td>[]</td>\n",
       "    </tr>\n",
       "    <tr>\n",
       "      <th>13346</th>\n",
       "      <td>PHILIPPINE CENTRAL BANKER FACES CORRUPTION CHA...</td>\n",
       "      <td>TRAIN</td>\n",
       "      <td>[philippines]</td>\n",
       "      <td>24-MAR-1987 10:42:01.79</td>\n",
       "      <td>MANILA, March 24 -</td>\n",
       "      <td>A government-appointed special\\nprosecutor has...</td>\n",
       "      <td>[]</td>\n",
       "    </tr>\n",
       "    <tr>\n",
       "      <th>18516</th>\n",
       "      <td>CUBAN SUGAR OUTPUT SEEN AT 7.5 MLN TONNES</td>\n",
       "      <td>TRAIN</td>\n",
       "      <td>[cuba, uk]</td>\n",
       "      <td>18-MAR-1987 19:17:03.41</td>\n",
       "      <td>LONDON, March 19 -</td>\n",
       "      <td>Cuban sugar output this season (1986/87)\\nis p...</td>\n",
       "      <td>[sugar]</td>\n",
       "    </tr>\n",
       "    <tr>\n",
       "      <th>752</th>\n",
       "      <td>FIRST REPUBLICBANK &lt;FRB.N&gt; CORP 3RD QTR LOSS</td>\n",
       "      <td>TEST</td>\n",
       "      <td>[usa]</td>\n",
       "      <td>20-OCT-1987 16:54:53.27</td>\n",
       "      <td>DALLAS, Oct 20 -\\n</td>\n",
       "      <td>shr diluted loss 46 cts\\n    net loss 6,300,00...</td>\n",
       "      <td>[earn]</td>\n",
       "    </tr>\n",
       "    <tr>\n",
       "      <th>3935</th>\n",
       "      <td>NUMAC OIL &lt;NMC&gt; HAS 59.7 MLN DLR FINANCING</td>\n",
       "      <td>TRAIN</td>\n",
       "      <td>[canada]</td>\n",
       "      <td>17-MAR-1987 10:01:00.99</td>\n",
       "      <td>Edmonton, Alberta, March 17 -</td>\n",
       "      <td>Numac Oil and Gas Ltd said it\\narranged a 59.7...</td>\n",
       "      <td>[]</td>\n",
       "    </tr>\n",
       "    <tr>\n",
       "      <th>1651</th>\n",
       "      <td>GV MEDICAL INC &lt;GVMI&gt; 4TH QTR LOSS</td>\n",
       "      <td>TRAIN</td>\n",
       "      <td>[usa]</td>\n",
       "      <td>25-MAR-1987 18:11:17.83</td>\n",
       "      <td>MINNEAPOLIS, Minn., March 25 -\\n</td>\n",
       "      <td>Shr loss 20 cts vs loss 26 cts\\n    Net loss 7...</td>\n",
       "      <td>[earn]</td>\n",
       "    </tr>\n",
       "    <tr>\n",
       "      <th>7530</th>\n",
       "      <td>MICROPOLIS &lt;MLIS&gt; TO OFFER CONVERTIBLE DEBT</td>\n",
       "      <td>TRAIN</td>\n",
       "      <td>[usa]</td>\n",
       "      <td>4-MAR-1987 11:11:17.29</td>\n",
       "      <td>NEW YORK, March 4 -</td>\n",
       "      <td>Micropolis Corp said it filed with the\\nSecuri...</td>\n",
       "      <td>[]</td>\n",
       "    </tr>\n",
       "  </tbody>\n",
       "</table>\n",
       "</div>"
      ],
      "text/plain": [
       "                                                   TITLE LEWISSPLIT  \\\n",
       "10105        LANDMARK SAVINGS <LSA> TO REPURCHASE SHARES      TRAIN   \n",
       "13346  PHILIPPINE CENTRAL BANKER FACES CORRUPTION CHA...      TRAIN   \n",
       "18516          CUBAN SUGAR OUTPUT SEEN AT 7.5 MLN TONNES      TRAIN   \n",
       "752         FIRST REPUBLICBANK <FRB.N> CORP 3RD QTR LOSS       TEST   \n",
       "3935          NUMAC OIL <NMC> HAS 59.7 MLN DLR FINANCING      TRAIN   \n",
       "1651                  GV MEDICAL INC <GVMI> 4TH QTR LOSS      TRAIN   \n",
       "7530         MICROPOLIS <MLIS> TO OFFER CONVERTIBLE DEBT      TRAIN   \n",
       "\n",
       "              PLACES                     DATE  \\\n",
       "10105          [usa]   2-APR-1987 09:27:12.03   \n",
       "13346  [philippines]  24-MAR-1987 10:42:01.79   \n",
       "18516     [cuba, uk]  18-MAR-1987 19:17:03.41   \n",
       "752            [usa]  20-OCT-1987 16:54:53.27   \n",
       "3935        [canada]  17-MAR-1987 10:01:00.99   \n",
       "1651           [usa]  25-MAR-1987 18:11:17.83   \n",
       "7530           [usa]   4-MAR-1987 11:11:17.29   \n",
       "\n",
       "                                       DATELINE  \\\n",
       "10105                    PITTSBURGH, April 2 -    \n",
       "13346                       MANILA, March 24 -    \n",
       "18516                       LONDON, March 19 -    \n",
       "752                      DALLAS, Oct 20 -\\n       \n",
       "3935             Edmonton, Alberta, March 17 -    \n",
       "1651       MINNEAPOLIS, Minn., March 25 -\\n       \n",
       "7530                       NEW YORK, March 4 -    \n",
       "\n",
       "                                                    BODY   TOPICS  \n",
       "10105  Landmark Savings Association said its\\nboard h...       []  \n",
       "13346  A government-appointed special\\nprosecutor has...       []  \n",
       "18516  Cuban sugar output this season (1986/87)\\nis p...  [sugar]  \n",
       "752    shr diluted loss 46 cts\\n    net loss 6,300,00...   [earn]  \n",
       "3935   Numac Oil and Gas Ltd said it\\narranged a 59.7...       []  \n",
       "1651   Shr loss 20 cts vs loss 26 cts\\n    Net loss 7...   [earn]  \n",
       "7530   Micropolis Corp said it filed with the\\nSecuri...       []  "
      ]
     },
     "execution_count": 14,
     "metadata": {},
     "output_type": "execute_result"
    }
   ],
   "source": [
    "df.sample(7)"
   ]
  },
  {
   "cell_type": "code",
   "execution_count": 14,
   "id": "e692be41-1436-4440-9365-f8352ab2b854",
   "metadata": {
    "tags": []
   },
   "outputs": [
    {
     "name": "stdout",
     "output_type": "stream",
     "text": [
      "<class 'pandas.core.frame.DataFrame'>\n",
      "RangeIndex: 21578 entries, 0 to 21577\n",
      "Data columns (total 7 columns):\n",
      " #   Column      Non-Null Count  Dtype \n",
      "---  ------      --------------  ----- \n",
      " 0   TITLE       20841 non-null  object\n",
      " 1   LEWISSPLIT  21578 non-null  object\n",
      " 2   PLACES      21578 non-null  object\n",
      " 3   DATE        21578 non-null  object\n",
      " 4   DATELINE    19043 non-null  object\n",
      " 5   BODY        19043 non-null  object\n",
      " 6   TOPICS      21578 non-null  object\n",
      "dtypes: object(7)\n",
      "memory usage: 1.2+ MB\n"
     ]
    }
   ],
   "source": [
    "df.info()"
   ]
  },
  {
   "cell_type": "markdown",
   "id": "59159ec1",
   "metadata": {},
   "source": [
    "# Data Cleaning"
   ]
  },
  {
   "cell_type": "code",
   "execution_count": 15,
   "id": "0ba6348f-06bf-4b4d-80f2-83a29c00886e",
   "metadata": {
    "tags": []
   },
   "outputs": [],
   "source": [
    "# Supprimer les articles sans body\n",
    "df = df.dropna(subset=['BODY'])\n",
    "\n",
    "# Supprimer les articles avec des topics = '[]'\n",
    "df = df[df['TOPICS'].apply(lambda x: x != [])]"
   ]
  },
  {
   "cell_type": "code",
   "execution_count": 18,
   "id": "1737f1cb-0e42-428a-96f6-20da3373689a",
   "metadata": {
    "tags": []
   },
   "outputs": [
    {
     "name": "stdout",
     "output_type": "stream",
     "text": [
      "<class 'pandas.core.frame.DataFrame'>\n",
      "Index: 10377 entries, 0 to 21577\n",
      "Data columns (total 7 columns):\n",
      " #   Column      Non-Null Count  Dtype \n",
      "---  ------      --------------  ----- \n",
      " 0   TITLE       10377 non-null  object\n",
      " 1   LEWISSPLIT  10377 non-null  object\n",
      " 2   PLACES      10377 non-null  object\n",
      " 3   DATE        10377 non-null  object\n",
      " 4   DATELINE    10377 non-null  object\n",
      " 5   BODY        10377 non-null  object\n",
      " 6   TOPICS      10377 non-null  object\n",
      "dtypes: object(7)\n",
      "memory usage: 648.6+ KB\n"
     ]
    }
   ],
   "source": [
    "df.info()"
   ]
  },
  {
   "cell_type": "code",
   "execution_count": 16,
   "id": "ca23a3a5-c676-4de0-ba42-0669efe95e75",
   "metadata": {
    "tags": []
   },
   "outputs": [],
   "source": [
    "target_topics = {'money-fx', 'ship', 'interest', 'acq', 'earn'}\n",
    "\n",
    "# Supprimer les articles qui ne contiennent pas les topics cibles\n",
    "df_cleaned = df[df['TOPICS'].apply(lambda x: bool(set(x) & target_topics))]"
   ]
  },
  {
   "cell_type": "code",
   "execution_count": null,
   "id": "83e032bb-8917-4e5a-890c-d25e09b22ee8",
   "metadata": {
    "collapsed": true,
    "jupyter": {
     "outputs_hidden": true
    },
    "tags": []
   },
   "outputs": [],
   "source": [
    "# Si un article contient plusieurs topics, on garde uniquement le topic présent dans target_topics\n",
    "df_cleaned['TOPICS'] = df_cleaned['TOPICS'].apply(lambda x: list(set(x) & target_topics)[0])"
   ]
  },
  {
   "cell_type": "markdown",
   "id": "3406e9a1",
   "metadata": {},
   "source": [
    "Étant donné que certains articles appartiennent à plusieurs topics présents dans `taget_topics`, une alternative consiste à effectuer une **classification multi-label** :\n",
    "\n",
    "- Convertir les topics en une représentation binaire (un vecteur pour chaque article indiquant la présence ou l'absence de chaque topic).\n",
    "- Prédire plusieurs topics pour chaque article ( exp: OneVsRestClassifier).\n",
    "- Évaluer la performance du modèle à l'aide de métriques adaptées, telles que : Hamming Loss (Fraction de labels incorrectement prédits), F1-score."
   ]
  },
  {
   "cell_type": "code",
   "execution_count": 22,
   "id": "a63492ff-04ce-4055-9bae-abbf5430b994",
   "metadata": {
    "tags": []
   },
   "outputs": [
    {
     "data": {
      "text/html": [
       "<div>\n",
       "<style scoped>\n",
       "    .dataframe tbody tr th:only-of-type {\n",
       "        vertical-align: middle;\n",
       "    }\n",
       "\n",
       "    .dataframe tbody tr th {\n",
       "        vertical-align: top;\n",
       "    }\n",
       "\n",
       "    .dataframe thead th {\n",
       "        text-align: right;\n",
       "    }\n",
       "</style>\n",
       "<table border=\"1\" class=\"dataframe\">\n",
       "  <thead>\n",
       "    <tr style=\"text-align: right;\">\n",
       "      <th></th>\n",
       "      <th>TITLE</th>\n",
       "      <th>LEWISSPLIT</th>\n",
       "      <th>PLACES</th>\n",
       "      <th>DATE</th>\n",
       "      <th>DATELINE</th>\n",
       "      <th>BODY</th>\n",
       "      <th>TOPICS</th>\n",
       "    </tr>\n",
       "  </thead>\n",
       "  <tbody>\n",
       "    <tr>\n",
       "      <th>1893</th>\n",
       "      <td>SALANT CORP &lt;SLT&gt; 1ST QTR FEB 28 NET</td>\n",
       "      <td>TRAIN</td>\n",
       "      <td>[usa]</td>\n",
       "      <td>26-MAR-1987 10:21:38.88</td>\n",
       "      <td>NEW YORK, March 26 -\\n</td>\n",
       "      <td>Oper shr profit seven cts vs loss 12 cts\\n    ...</td>\n",
       "      <td>earn</td>\n",
       "    </tr>\n",
       "    <tr>\n",
       "      <th>5904</th>\n",
       "      <td>SOUTHERN NEW ENGLAND TELECOM &lt;SNG&gt; DECLARES DIV</td>\n",
       "      <td>TRAIN</td>\n",
       "      <td>[usa]</td>\n",
       "      <td>11-MAR-1987 15:29:11.51</td>\n",
       "      <td>NEW HAVEN, Conn., March 11 -\\n</td>\n",
       "      <td>Qtly div 72 cts vs 72 cts prior\\n    Pay April...</td>\n",
       "      <td>earn</td>\n",
       "    </tr>\n",
       "    <tr>\n",
       "      <th>3817</th>\n",
       "      <td>JAPAN FOREIGN SHIPBUILDING ORDERS RISE IN FEBR...</td>\n",
       "      <td>TRAIN</td>\n",
       "      <td>[japan]</td>\n",
       "      <td>17-MAR-1987 04:54:23.42</td>\n",
       "      <td>TOKYO, March 17 -</td>\n",
       "      <td>New foreign shipbuilding orders received\\nby J...</td>\n",
       "      <td>ship</td>\n",
       "    </tr>\n",
       "    <tr>\n",
       "      <th>17712</th>\n",
       "      <td>FORTUNE SAVINGS TO BUY FINANCIAL &lt;FSSL&gt; BRANCH</td>\n",
       "      <td>TRAIN</td>\n",
       "      <td>[usa]</td>\n",
       "      <td>17-MAR-1987 13:32:00.56</td>\n",
       "      <td>SUNRISE, Fla., March 17 -</td>\n",
       "      <td>&lt;Fortune Savings Bank&gt; said it\\nagreed to buy ...</td>\n",
       "      <td>acq</td>\n",
       "    </tr>\n",
       "  </tbody>\n",
       "</table>\n",
       "</div>"
      ],
      "text/plain": [
       "                                                   TITLE LEWISSPLIT   PLACES  \\\n",
       "1893                SALANT CORP <SLT> 1ST QTR FEB 28 NET      TRAIN    [usa]   \n",
       "5904     SOUTHERN NEW ENGLAND TELECOM <SNG> DECLARES DIV      TRAIN    [usa]   \n",
       "3817   JAPAN FOREIGN SHIPBUILDING ORDERS RISE IN FEBR...      TRAIN  [japan]   \n",
       "17712     FORTUNE SAVINGS TO BUY FINANCIAL <FSSL> BRANCH      TRAIN    [usa]   \n",
       "\n",
       "                          DATE                                DATELINE  \\\n",
       "1893   26-MAR-1987 10:21:38.88              NEW YORK, March 26 -\\n       \n",
       "5904   11-MAR-1987 15:29:11.51      NEW HAVEN, Conn., March 11 -\\n       \n",
       "3817   17-MAR-1987 04:54:23.42                      TOKYO, March 17 -    \n",
       "17712  17-MAR-1987 13:32:00.56              SUNRISE, Fla., March 17 -    \n",
       "\n",
       "                                                    BODY TOPICS  \n",
       "1893   Oper shr profit seven cts vs loss 12 cts\\n    ...   earn  \n",
       "5904   Qtly div 72 cts vs 72 cts prior\\n    Pay April...   earn  \n",
       "3817   New foreign shipbuilding orders received\\nby J...   ship  \n",
       "17712  <Fortune Savings Bank> said it\\nagreed to buy ...    acq  "
      ]
     },
     "execution_count": 22,
     "metadata": {},
     "output_type": "execute_result"
    }
   ],
   "source": [
    "df_cleaned.sample(4)"
   ]
  },
  {
   "cell_type": "code",
   "execution_count": 18,
   "id": "522495bd-847c-4f2d-9f85-87e5fa47c16c",
   "metadata": {
    "tags": []
   },
   "outputs": [
    {
     "name": "stdout",
     "output_type": "stream",
     "text": [
      "<class 'pandas.core.frame.DataFrame'>\n",
      "Index: 7175 entries, 8 to 21573\n",
      "Data columns (total 7 columns):\n",
      " #   Column      Non-Null Count  Dtype \n",
      "---  ------      --------------  ----- \n",
      " 0   TITLE       7175 non-null   object\n",
      " 1   LEWISSPLIT  7175 non-null   object\n",
      " 2   PLACES      7175 non-null   object\n",
      " 3   DATE        7175 non-null   object\n",
      " 4   DATELINE    7175 non-null   object\n",
      " 5   BODY        7175 non-null   object\n",
      " 6   TOPICS      7175 non-null   object\n",
      "dtypes: object(7)\n",
      "memory usage: 448.4+ KB\n"
     ]
    }
   ],
   "source": [
    "df_cleaned.info()"
   ]
  },
  {
   "cell_type": "markdown",
   "id": "6b09062e",
   "metadata": {},
   "source": [
    "# Descriptive Analysis\n",
    "###  Descriptive Analysis with : TF-IDF, Words Frequency, Avg Body Length..."
   ]
  },
  {
   "cell_type": "code",
   "execution_count": null,
   "id": "2c222c29-9425-44bc-be63-55c1708eaa88",
   "metadata": {
    "tags": []
   },
   "outputs": [],
   "source": [
    "# Initialiser le lemmatiseur\n",
    "lemmatizer = WordNetLemmatizer()\n",
    "\n",
    "def get_wordnet_pos(word):\n",
    "    \"\"\"\n",
    "    Retourne la catégorie grammaticale (POS) pour un mot.\n",
    "    \"\"\"\n",
    "    tag = nltk.pos_tag([word])[0][1][0].upper()\n",
    "    tag_dict = {\n",
    "        \"J\": wordnet.ADJ,\n",
    "        \"N\": wordnet.NOUN,\n",
    "        \"V\": wordnet.VERB,\n",
    "        \"R\": wordnet.ADV\n",
    "    }\n",
    "    return tag_dict.get(tag, wordnet.NOUN)\n",
    "\n",
    "def lemmatize_text(text):\n",
    "    \"\"\"\n",
    "    Lemmatisation d'un texte en supprimant les stopwords.\n",
    "    \"\"\"\n",
    "    tokens = word_tokenize(text.lower())\n",
    "    return [lemmatizer.lemmatize(word, get_wordnet_pos(word)) for word in tokens if word.isalnum()]\n",
    "\n",
    "def get_word_frequencies(texts, stop_words):\n",
    "    \"\"\"\n",
    "    Calcule les mots les plus fréquents à partir d'une liste de textes après lemmatisation.\n",
    "    \"\"\"\n",
    "    all_words = []\n",
    "    for text in texts:\n",
    "        if isinstance(text, str):\n",
    "            lemmatized_words = lemmatize_text(text)\n",
    "            words = [word for word in lemmatized_words if word not in stop_words]\n",
    "            all_words.extend(words)\n",
    "    return Counter(all_words).most_common(10)\n",
    "\n",
    "def compute_tfidf(texts, stop_words, top_n=10):\n",
    "    \"\"\"\n",
    "    Calcule les mots les plus significatifs selon TF-IDF après lemmatisation.\n",
    "    \"\"\"\n",
    "    if len(texts) == 0:\n",
    "        return []\n",
    "    \n",
    "    # Appliquer la lemmatisation et supprimer les stopwords\n",
    "    processed_texts = [\n",
    "        ' '.join([word for word in lemmatize_text(text) if word not in stop_words])\n",
    "        for text in texts if isinstance(text, str)\n",
    "    ]\n",
    "    \n",
    "    # Initialiser le TF-IDF Vectorizer\n",
    "    tfidf_vectorizer = TfidfVectorizer(max_features=1000)\n",
    "    tfidf_matrix = tfidf_vectorizer.fit_transform(processed_texts)\n",
    "    feature_names = tfidf_vectorizer.get_feature_names_out()\n",
    "    \n",
    "    # Calculer la moyenne des scores TF-IDF pour chaque mot\n",
    "    tfidf_avg_scores = tfidf_matrix.mean(axis=0).A1\n",
    "    tfidf_scores = list(zip(feature_names, tfidf_avg_scores))\n",
    "    \n",
    "    # Trier les mots par score TF-IDF\n",
    "    tfidf_scores = sorted(tfidf_scores, key=lambda x: x[1], reverse=True)\n",
    "    \n",
    "    return [word for word, _ in tfidf_scores[:top_n]]\n",
    "\n",
    "def descriptive_analysis(df):\n",
    "    \"\"\"\n",
    "    Analyse descriptive pour identifier les caractéristiques principales de chaque sujet.\n",
    "    \"\"\"\n",
    "    stop_words = set(stopwords.words('english'))  # Stopwords à exclure\n",
    "    topic_analysis = {}\n",
    "\n",
    "    for topic in df['TOPICS'].unique():\n",
    "        topic_data = df[df['TOPICS'] == topic]\n",
    "        \n",
    "        # Longueur moyenne du texte\n",
    "        avg_body_length = topic_data['BODY'].apply(lambda x: len(x.split()) if isinstance(x, str) else 0).mean()\n",
    "        \n",
    "        # Fréquence des mots dans BODY\n",
    "        body_frequencies = get_word_frequencies(topic_data['BODY'], stop_words)\n",
    "        \n",
    "        # Fréquence des mots dans TITLE\n",
    "        title_frequencies = get_word_frequencies(topic_data['TITLE'], stop_words)\n",
    "        \n",
    "        # TF-IDF pour BODY\n",
    "        body_tfidf = compute_tfidf(topic_data['BODY'].dropna().tolist(), stop_words)\n",
    "        \n",
    "        # TF-IDF pour TITLE\n",
    "        title_tfidf = compute_tfidf(topic_data['TITLE'].dropna().tolist(), stop_words)\n",
    "        \n",
    "        # Lieux les plus fréquents\n",
    "        places = [place for sublist in topic_data['PLACES'] for place in sublist]\n",
    "        places_frequencies = Counter(places).most_common(5)\n",
    "\n",
    "        # Stocker les résultats\n",
    "        topic_analysis[topic] = {\n",
    "            'Average BODY Length': avg_body_length,\n",
    "            'Top Words in BODY': body_frequencies,\n",
    "            'TF-IDF Words in BODY': body_tfidf,\n",
    "            'Top Words in TITLE': title_frequencies,\n",
    "            'TF-IDF Words in TITLE': title_tfidf,\n",
    "            'Top Places': places_frequencies\n",
    "        }\n",
    "    \n",
    "    return topic_analysis"
   ]
  },
  {
   "cell_type": "code",
   "execution_count": 25,
   "id": "3fad0c7a-dcbd-4974-8877-5532ded7f4bf",
   "metadata": {
    "tags": []
   },
   "outputs": [
    {
     "name": "stdout",
     "output_type": "stream",
     "text": [
      "\n",
      "Topic: money-fx\n",
      "  Average BODY Length: 214.48755490483163\n",
      "  Top Words in BODY: [('say', 3094), ('bank', 1666), ('dollar', 1308), ('rate', 1283), ('market', 1074), ('pct', 899), ('currency', 803), ('reuter', 678), ('exchange', 652), ('would', 636)]\n",
      "  TF-IDF Words in BODY: ['say', 'bank', 'stg', 'mln', 'dollar', 'rate', 'pct', 'market', 'billion', 'yen']\n",
      "  Top Words in TITLE: [('market', 163), ('money', 144), ('say', 108), ('bank', 100), ('dollar', 95), ('mln', 76), ('stg', 75), ('japan', 74), ('fed', 70), ('currency', 64)]\n",
      "  TF-IDF Words in TITLE: ['market', 'money', 'bank', 'say', 'dollar', 'mln', 'stg', 'fed', 'japan', 'currency']\n",
      "  Top Places: [('usa', 231), ('uk', 171), ('japan', 164), ('west-germany', 104), ('france', 40)]\n",
      "\n",
      "Topic: interest\n",
      "  Average BODY Length: 183.58474576271186\n",
      "  Top Words in BODY: [('rate', 939), ('say', 891), ('pct', 830), ('bank', 640), ('market', 263), ('interest', 259), ('reuter', 232), ('cut', 189), ('would', 176), ('billion', 169)]\n",
      "  TF-IDF Words in BODY: ['pct', 'rate', 'bank', 'say', 'prime', 'day', 'effective', 'reuter', 'raise', 'interest']\n",
      "  Top Words in TITLE: [('rate', 139), ('bank', 66), ('cut', 50), ('prime', 50), ('raise', 32), ('pct', 31), ('interest', 30), ('fed', 23), ('say', 22), ('discount', 17)]\n",
      "  TF-IDF Words in TITLE: ['rate', 'bank', 'prime', 'cut', 'pct', 'raise', 'interest', 'fed', 'discount', 'say']\n",
      "  Top Places: [('usa', 109), ('uk', 32), ('japan', 19), ('west-germany', 13), ('australia', 11)]\n",
      "\n",
      "Topic: ship\n",
      "  Average BODY Length: 167.87118644067797\n",
      "  Top Words in BODY: [('say', 1060), ('reuter', 294), ('gulf', 274), ('ship', 248), ('oil', 202), ('port', 190), ('iran', 184), ('would', 181), ('strike', 165), ('attack', 163)]\n",
      "  TF-IDF Words in BODY: ['say', 'gulf', 'port', 'ship', 'iran', 'strike', 'attack', 'iranian', 'oil', 'tonne']\n",
      "  Top Words in TITLE: [('gulf', 48), ('ship', 39), ('strike', 35), ('port', 30), ('say', 29), ('iran', 24), ('oil', 22), ('grain', 22), ('attack', 19), ('tanker', 16)]\n",
      "  TF-IDF Words in TITLE: ['gulf', 'ship', 'strike', 'say', 'grain', 'port', 'iran', 'oil', 'attack', 'freight']\n",
      "  Top Places: [('usa', 111), ('iran', 61), ('uk', 54), ('brazil', 26), ('kuwait', 24)]\n",
      "\n",
      "Topic: acq\n",
      "  Average BODY Length: 127.21546203110705\n",
      "  Top Words in BODY: [('say', 7323), ('share', 3187), ('company', 2755), ('dlrs', 2721), ('reuter', 2169), ('mln', 2168), ('inc', 1885), ('pct', 1841), ('corp', 1464), ('offer', 1421)]\n",
      "  TF-IDF Words in BODY: ['say', 'share', 'dlrs', 'company', 'inc', 'mln', 'pct', 'corp', 'reuter', 'stock']\n",
      "  Top Words in TITLE: [('buy', 313), ('unit', 306), ('sell', 271), ('stake', 259), ('acquisition', 159), ('completes', 138), ('bid', 137), ('merger', 132), ('pct', 113), ('offer', 104)]\n",
      "  TF-IDF Words in TITLE: ['buy', 'unit', 'sell', 'stake', 'acquisition', 'completes', 'merger', 'bid', 'pct', 'make']\n",
      "  Top Places: [('usa', 1829), ('canada', 149), ('uk', 128), ('japan', 43), ('australia', 42)]\n",
      "\n",
      "Topic: earn\n",
      "  Average BODY Length: 74.55417218543046\n",
      "  Top Words in BODY: [('v', 14004), ('mln', 11403), ('ct', 7901), ('dlrs', 5973), ('net', 5121), ('loss', 4662), ('shr', 4002), ('reuter', 3759), ('say', 3484), ('profit', 3015)]\n",
      "  TF-IDF Words in BODY: ['mln', 'ct', 'loss', 'dlrs', 'net', 'shr', 'rev', 'profit', 'reuter', 'say']\n",
      "  Top Words in TITLE: [('qtr', 1857), ('net', 1507), ('inc', 1149), ('corp', 750), ('4th', 671), ('loss', 518), ('3rd', 507), ('1st', 449), ('year', 443), ('31', 377)]\n",
      "  TF-IDF Words in TITLE: ['qtr', 'net', 'inc', 'corp', '4th', '3rd', 'loss', 'year', '1st', '31']\n",
      "  Top Places: [('usa', 3166), ('canada', 265), ('uk', 93), ('west-germany', 41), ('japan', 31)]\n"
     ]
    }
   ],
   "source": [
    "# Perform descriptive analysis\n",
    "analysis_results = descriptive_analysis(df_cleaned)\n",
    "\n",
    "# Display results\n",
    "for topic, details in analysis_results.items():\n",
    "    print(f\"\\nTopic: {topic}\")\n",
    "    for key, value in details.items():\n",
    "        print(f\"  {key}: {value}\")"
   ]
  },
  {
   "cell_type": "markdown",
   "id": "8e9ba11c",
   "metadata": {},
   "source": [
    "### Descriptive Analysis with an LLM (Gemini)"
   ]
  },
  {
   "cell_type": "code",
   "execution_count": null,
   "id": "a3851288-ee23-4a52-a243-1234a7ea4176",
   "metadata": {},
   "outputs": [],
   "source": [
    "import vertexai\n",
    "from vertexai.preview.generative_models import GenerativeModel, Image\n",
    "\n",
    "# PROJECT_ID = \n",
    "# LOCATION = \n",
    "\n",
    "vertexai.init(project=PROJECT_ID, location=LOCATION)\n",
    "generative_multimodal_model = GenerativeModel(\"gemini-1.5-flash-002\")"
   ]
  },
  {
   "cell_type": "code",
   "execution_count": 57,
   "id": "32701eff-cb7e-43ab-be39-bc5984ced9dc",
   "metadata": {
    "tags": []
   },
   "outputs": [],
   "source": [
    "def summarize_article(model, article):\n",
    "    \"\"\"\n",
    "    Generate a summary for a single article using Gemini Flash.\n",
    "    \"\"\"\n",
    "    prompt = f\"Summarize this article in one concise sentence:\\n\\n{article}\"\n",
    "    response = model.generate_content([prompt])\n",
    "    return response.text.strip()\n",
    "\n",
    "def generate_analysis(model, summaries):\n",
    "    \"\"\"\n",
    "    Generate a descriptive analysis in bullet points from article summaries.\n",
    "    \"\"\"\n",
    "    prompt = (\n",
    "        \"Based on the following summaries of articles talking about a certain topic, generate the global descriptive analysis in few words to extract the main characteristics of this topic:\\n\\n\" + \"\\n\".join(summaries)\n",
    "    )\n",
    "    response = model.generate_content([prompt])\n",
    "    return response.text.strip()"
   ]
  },
  {
   "cell_type": "code",
   "execution_count": 54,
   "id": "5fbd6ec6-8ed2-4535-ad60-11eeb94090a8",
   "metadata": {
    "tags": []
   },
   "outputs": [],
   "source": [
    "def descriptive_analysis_with_gemini(df, model):\n",
    "    \"\"\"\n",
    "    Perform descriptive analysis for each topic using Gemini Flash.\n",
    "    \"\"\"\n",
    "    topic_analysis = {}\n",
    "\n",
    "    for topic in df['TOPICS'].unique():\n",
    "        print(f\"Processing topic: {topic}\")\n",
    "        \n",
    "        # Get articles for the current topic\n",
    "        topic_data = df[df['TOPICS'] == topic]\n",
    "        articles = topic_data['BODY'].dropna().tolist()\n",
    "\n",
    "        # Randomly sample up to 100 articles\n",
    "        sampled_articles = random.sample(articles, min(100, len(articles)))\n",
    "\n",
    "        # Summarize each article\n",
    "        summaries = [summarize_article(model, article) for article in sampled_articles]\n",
    "\n",
    "        # Generate a descriptive analysis from summaries\n",
    "        analysis = generate_analysis(model, summaries)\n",
    "\n",
    "        # Store results\n",
    "        topic_analysis[topic] = {\n",
    "            'Summaries': summaries,\n",
    "            'Descriptive Analysis': analysis\n",
    "        }\n",
    "\n",
    "    return topic_analysis\n"
   ]
  },
  {
   "cell_type": "code",
   "execution_count": 58,
   "id": "885cfd1e-da69-4a01-b2e9-42eda13897f2",
   "metadata": {
    "tags": []
   },
   "outputs": [
    {
     "name": "stdout",
     "output_type": "stream",
     "text": [
      "Processing topic: money-fx\n",
      "Processing topic: interest\n",
      "Processing topic: ship\n",
      "Processing topic: acq\n",
      "Processing topic: earn\n"
     ]
    }
   ],
   "source": [
    "# Perform descriptive analysis\n",
    "analysis_results = descriptive_analysis_with_gemini(df_cleaned, generative_multimodal_model)"
   ]
  },
  {
   "cell_type": "code",
   "execution_count": 59,
   "id": "f48babb8-ed69-4aab-97cb-01a1907d8202",
   "metadata": {
    "tags": []
   },
   "outputs": [
    {
     "name": "stdout",
     "output_type": "stream",
     "text": [
      "\n",
      "Topic: money-fx\n",
      "Global currency instability, marked by interventions to support the dollar,  attempts at coordinated policy (Louvre Accord, G7 meetings), and concerns over trade imbalances.  Liquidity issues in several national money markets also present a significant feature.\n",
      "================================================================================\n",
      "\n",
      "Topic: interest\n",
      "Global interest rate fluctuations driven by central bank policies, market forces (supply/demand, currency exchange), and economic conditions (inflation, growth, debt).  Banks adjust lending and deposit rates accordingly, impacting borrowing costs and economic activity.\n",
      "================================================================================\n",
      "\n",
      "Topic: ship\n",
      "Global maritime industry facing numerous challenges: port infrastructure limitations, labor disputes (strikes, wage demands), geopolitical tensions impacting shipping routes & oil exploration, and natural disasters affecting operations.  Significant economic consequences are prevalent.\n",
      "================================================================================\n",
      "\n",
      "Topic: acq\n",
      "Mergers, acquisitions, and takeover attempts across diverse industries, often involving financial restructuring, expansion strategies, and regulatory approvals.\n",
      "================================================================================\n",
      "\n",
      "Topic: earn\n",
      "Variable financial performance with frequent dividend payments; impacted by acquisitions, restructuring, and market conditions.\n",
      "================================================================================\n"
     ]
    }
   ],
   "source": [
    "# Display results for a topic\n",
    "for topic, analysis in analysis_results.items():\n",
    "    print(f\"\\nTopic: {topic}\")\n",
    "    print(analysis['Descriptive Analysis'])\n",
    "    print(\"=\" * 80)"
   ]
  },
  {
   "cell_type": "markdown",
   "id": "7bd03658",
   "metadata": {},
   "source": [
    "# Predictive analysis"
   ]
  },
  {
   "cell_type": "code",
   "execution_count": 19,
   "id": "3d982fe1",
   "metadata": {},
   "outputs": [
    {
     "data": {
      "text/plain": [
       "TOPICS\n",
       "earn        3758\n",
       "acq         2209\n",
       "money-fx     684\n",
       "ship         288\n",
       "interest     236\n",
       "Name: count, dtype: int64"
      ]
     },
     "execution_count": 19,
     "metadata": {},
     "output_type": "execute_result"
    }
   ],
   "source": [
    "df_cleaned['TOPICS'].value_counts()"
   ]
  },
  {
   "cell_type": "markdown",
   "id": "9f3c3015",
   "metadata": {},
   "source": [
    "##### ⬆️ Imbalanced data : Biais vers les classes majoritaires \n",
    "- Stratégies de résolution : \n",
    "    - Pondération des classes (poids inversément proportionnels à la fréquence des classes pour les Modeles classique ou bien une loss pondérée pour les NNs) --> exp avec XGBoost ou LogisticRegression paramètre `class_weight='balanced'` \n",
    "    - Sampling (SMOTE) --> Conçu idéalement pour les données numériques (Une alternative est de génerer Embeddings + SMOTE )\n",
    "    - Data Augmentation (Synonym Replacement + Back Translation ou bien LLMs pour générer des données textuelles)\n",
    "    - Ensemble learning : BalancedRandomForestClassifier\n",
    "    - Utilisation de métriques adaptées : F1-score, AUC-ROC, Matrice de confusion"
   ]
  },
  {
   "cell_type": "code",
   "execution_count": 28,
   "id": "882d8c6c",
   "metadata": {},
   "outputs": [
    {
     "data": {
      "text/plain": [
       "LEWISSPLIT\n",
       "TRAIN       4984\n",
       "TEST        1977\n",
       "NOT-USED     214\n",
       "Name: count, dtype: int64"
      ]
     },
     "execution_count": 28,
     "metadata": {},
     "output_type": "execute_result"
    }
   ],
   "source": [
    "df_cleaned['LEWISSPLIT'].value_counts()"
   ]
  },
  {
   "cell_type": "code",
   "execution_count": 21,
   "id": "9f3decac",
   "metadata": {},
   "outputs": [
    {
     "name": "stdout",
     "output_type": "stream",
     "text": [
      "Training data: 5198 articles\n",
      "Testing data: 1977 articles\n"
     ]
    }
   ],
   "source": [
    "# Split the data into training ( 'Train' and 'not used' ) and testing sets\n",
    "train_data = df_cleaned[df_cleaned['LEWISSPLIT'].isin(['TRAIN', 'NOT-USED'])]\n",
    "test_data = df_cleaned[df_cleaned['LEWISSPLIT'] == 'TEST']\n",
    "\n",
    "print(f\"Training data: {train_data.shape[0]} articles\")\n",
    "print(f\"Testing data: {test_data.shape[0]} articles\")"
   ]
  },
  {
   "cell_type": "markdown",
   "id": "4467f605",
   "metadata": {},
   "source": [
    "Environ 70% train et 30% test"
   ]
  },
  {
   "cell_type": "code",
   "execution_count": 23,
   "id": "72cf768a",
   "metadata": {},
   "outputs": [],
   "source": [
    "# Extract features and labels\n",
    "X_train = train_data['BODY']\n",
    "y_train = train_data['TOPICS']\n",
    "X_test = test_data['BODY']\n",
    "y_test = test_data['TOPICS']"
   ]
  },
  {
   "cell_type": "markdown",
   "id": "41edafc1",
   "metadata": {},
   "source": [
    "## Traditional Machine Learning Approach\n",
    "Dans cette partie, j'ai utilisé comme features la matrice TF-IDF. D'autres features peuvent être utilisées telles que Bag of Words, Fréquence des mots-clés, la longueur de l'article(body), Embeddings contextuels (BERT) ou **Doc2Vec**.\n",
    "### Naive Bayes"
   ]
  },
  {
   "cell_type": "code",
   "execution_count": 37,
   "id": "3ef3df69",
   "metadata": {},
   "outputs": [
    {
     "name": "stdout",
     "output_type": "stream",
     "text": [
      "Accuracy: 0.9044006069802731\n",
      "Classification Report:\n",
      "               precision    recall  f1-score   support\n",
      "\n",
      "         acq       0.86      0.98      0.92       643\n",
      "        earn       0.96      0.98      0.97      1042\n",
      "    interest       0.00      0.00      0.00        65\n",
      "    money-fx       0.76      0.94      0.84       142\n",
      "        ship       1.00      0.02      0.05        85\n",
      "\n",
      "    accuracy                           0.90      1977\n",
      "   macro avg       0.71      0.58      0.55      1977\n",
      "weighted avg       0.88      0.90      0.87      1977\n",
      "\n"
     ]
    },
    {
     "name": "stderr",
     "output_type": "stream",
     "text": [
      "c:\\Users\\moham\\AppData\\Local\\Programs\\Python\\Python310\\lib\\site-packages\\sklearn\\metrics\\_classification.py:1531: UndefinedMetricWarning: Precision is ill-defined and being set to 0.0 in labels with no predicted samples. Use `zero_division` parameter to control this behavior.\n",
      "  _warn_prf(average, modifier, f\"{metric.capitalize()} is\", len(result))\n",
      "c:\\Users\\moham\\AppData\\Local\\Programs\\Python\\Python310\\lib\\site-packages\\sklearn\\metrics\\_classification.py:1531: UndefinedMetricWarning: Precision is ill-defined and being set to 0.0 in labels with no predicted samples. Use `zero_division` parameter to control this behavior.\n",
      "  _warn_prf(average, modifier, f\"{metric.capitalize()} is\", len(result))\n",
      "c:\\Users\\moham\\AppData\\Local\\Programs\\Python\\Python310\\lib\\site-packages\\sklearn\\metrics\\_classification.py:1531: UndefinedMetricWarning: Precision is ill-defined and being set to 0.0 in labels with no predicted samples. Use `zero_division` parameter to control this behavior.\n",
      "  _warn_prf(average, modifier, f\"{metric.capitalize()} is\", len(result))\n"
     ]
    },
    {
     "data": {
      "image/png": "[encoded data removed]",
      "text/plain": [
       "<Figure size 640x480 with 2 Axes>"
      ]
     },
     "metadata": {},
     "output_type": "display_data"
    }
   ],
   "source": [
    "# Create a pipeline that combines the TfidfVectorizer and the MultinomialNB classifier\n",
    "model = make_pipeline(TfidfVectorizer(), MultinomialNB())\n",
    "\n",
    "# Train the model\n",
    "model.fit(X_train, y_train)\n",
    "\n",
    "# Predict the topics for the test set\n",
    "y_pred = model.predict(X_test)\n",
    "\n",
    "# Evaluate the model\n",
    "print(\"Accuracy:\", accuracy_score(y_test, y_pred))\n",
    "print(\"Classification Report:\\n\", classification_report(y_test, y_pred))\n",
    "\n",
    "# Compute the confusion matrix\n",
    "conf_matrix = confusion_matrix(y_test, y_pred, labels=model.classes_)\n",
    "\n",
    "# Display the confusion matrix\n",
    "disp = ConfusionMatrixDisplay(confusion_matrix=conf_matrix, display_labels=model.classes_)\n",
    "disp.plot(cmap=\"Blues\", xticks_rotation=\"vertical\")  # Customize display\n",
    "plt.title(\"Confusion Matrix\")\n",
    "plt.show()"
   ]
  },
  {
   "cell_type": "markdown",
   "id": "12edf993",
   "metadata": {},
   "source": [
    "### Logistic Regression"
   ]
  },
  {
   "cell_type": "code",
   "execution_count": 35,
   "id": "a3419782",
   "metadata": {},
   "outputs": [
    {
     "name": "stdout",
     "output_type": "stream",
     "text": [
      "Accuracy: 0.9645928174001012\n",
      "Classification Report:\n",
      "               precision    recall  f1-score   support\n",
      "\n",
      "         acq       0.97      0.99      0.98       643\n",
      "        earn       0.99      0.98      0.99      1042\n",
      "    interest       0.76      0.65      0.70        65\n",
      "    money-fx       0.82      0.92      0.87       142\n",
      "        ship       0.99      0.96      0.98        85\n",
      "\n",
      "    accuracy                           0.96      1977\n",
      "   macro avg       0.91      0.90      0.90      1977\n",
      "weighted avg       0.97      0.96      0.96      1977\n",
      "\n"
     ]
    },
    {
     "data": {
      "text/plain": [
       "<sklearn.metrics._plot.confusion_matrix.ConfusionMatrixDisplay at 0x2085d6dbd30>"
      ]
     },
     "execution_count": 35,
     "metadata": {},
     "output_type": "execute_result"
    },
    {
     "data": {
      "image/png": "[encoded data removed]",
      "text/plain": [
       "<Figure size 640x480 with 2 Axes>"
      ]
     },
     "metadata": {},
     "output_type": "display_data"
    }
   ],
   "source": [
    "# Create a pipeline that combines the TfidfVectorizer and the LogisticRegression classifier\n",
    "logistic_model = make_pipeline(\n",
    "    TfidfVectorizer(), \n",
    "    LogisticRegression(class_weight='balanced')  # Handle imbalanced data\n",
    ")\n",
    "\n",
    "# Train the model\n",
    "logistic_model.fit(X_train, y_train)\n",
    "\n",
    "# Predict the topics for the test set\n",
    "y_pred_logistic = logistic_model.predict(X_test)\n",
    "\n",
    "# Evaluate the model\n",
    "print(\"Accuracy:\", accuracy_score(y_test, y_pred_logistic))\n",
    "print(\"Classification Report:\\n\", classification_report(y_test, y_pred_logistic))\n",
    "\n",
    "# Display the confusion matrix\n",
    "conf_matrix = confusion_matrix(y_test, y_pred_logistic, labels=logistic_model.classes_)\n",
    "disp = ConfusionMatrixDisplay(confusion_matrix=conf_matrix, display_labels=logistic_model.classes_)\n",
    "disp.plot(cmap=\"Blues\")"
   ]
  },
  {
   "cell_type": "markdown",
   "id": "2cf3040d",
   "metadata": {},
   "source": [
    "### Random Forest"
   ]
  },
  {
   "cell_type": "code",
   "execution_count": 39,
   "id": "609939b6",
   "metadata": {},
   "outputs": [
    {
     "name": "stdout",
     "output_type": "stream",
     "text": [
      "Accuracy: 0.9524532119372787\n",
      "Classification Report:\n",
      "               precision    recall  f1-score   support\n",
      "\n",
      "         acq       0.94      0.98      0.96       643\n",
      "        earn       0.99      0.98      0.99      1042\n",
      "    interest       0.96      0.35      0.52        65\n",
      "    money-fx       0.77      0.94      0.85       142\n",
      "        ship       1.00      0.82      0.90        85\n",
      "\n",
      "    accuracy                           0.95      1977\n",
      "   macro avg       0.93      0.82      0.84      1977\n",
      "weighted avg       0.96      0.95      0.95      1977\n",
      "\n"
     ]
    },
    {
     "data": {
      "text/plain": [
       "<sklearn.metrics._plot.confusion_matrix.ConfusionMatrixDisplay at 0x20860186c80>"
      ]
     },
     "execution_count": 39,
     "metadata": {},
     "output_type": "execute_result"
    },
    {
     "data": {
      "image/png": "[encoded data removed]",
      "text/plain": [
       "<Figure size 640x480 with 2 Axes>"
      ]
     },
     "metadata": {},
     "output_type": "display_data"
    }
   ],
   "source": [
    "# Create a pipeline that combines the TfidfVectorizer and the RandomForestClassifier\n",
    "random_forest_model = make_pipeline(\n",
    "    TfidfVectorizer(), \n",
    "    RandomForestClassifier(class_weight=\"balanced\")  # Handle imbalanced data\n",
    ")\n",
    "\n",
    "# Train the model\n",
    "random_forest_model.fit(X_train, y_train)\n",
    "\n",
    "# Predict the topics for the test set\n",
    "y_pred_rf = random_forest_model.predict(X_test)\n",
    "\n",
    "# Evaluate the model\n",
    "print(\"Accuracy:\", accuracy_score(y_test, y_pred_rf))\n",
    "print(\"Classification Report:\\n\", classification_report(y_test, y_pred_rf))\n",
    "\n",
    "# Display the confusion matrix\n",
    "conf_matrix = confusion_matrix(y_test, y_pred_rf, labels=random_forest_model.classes_)\n",
    "disp = ConfusionMatrixDisplay(confusion_matrix=conf_matrix, display_labels=random_forest_model.classes_)\n",
    "disp.plot(cmap=\"Blues\")"
   ]
  },
  {
   "cell_type": "markdown",
   "id": "b45fc8cb",
   "metadata": {},
   "source": [
    "### SVC (Support Vector Classifier)"
   ]
  },
  {
   "cell_type": "code",
   "execution_count": 41,
   "id": "80bc7d63",
   "metadata": {},
   "outputs": [
    {
     "name": "stdout",
     "output_type": "stream",
     "text": [
      "Accuracy: 0.9590288315629742\n",
      "Classification Report:\n",
      "               precision    recall  f1-score   support\n",
      "\n",
      "         acq       0.95      0.99      0.97       643\n",
      "        earn       0.99      0.98      0.99      1042\n",
      "    interest       0.91      0.45      0.60        65\n",
      "    money-fx       0.78      0.96      0.86       142\n",
      "        ship       1.00      0.85      0.92        85\n",
      "\n",
      "    accuracy                           0.96      1977\n",
      "   macro avg       0.93      0.85      0.87      1977\n",
      "weighted avg       0.96      0.96      0.96      1977\n",
      "\n"
     ]
    },
    {
     "data": {
      "text/plain": [
       "<sklearn.metrics._plot.confusion_matrix.ConfusionMatrixDisplay at 0x2085b3fde10>"
      ]
     },
     "execution_count": 41,
     "metadata": {},
     "output_type": "execute_result"
    },
    {
     "data": {
      "image/png": "[encoded data removed]",
      "text/plain": [
       "<Figure size 640x480 with 2 Axes>"
      ]
     },
     "metadata": {},
     "output_type": "display_data"
    }
   ],
   "source": [
    "# Create a pipeline that combines the TfidfVectorizer and the SVC classifier\n",
    "svc_model = make_pipeline(\n",
    "    TfidfVectorizer(),\n",
    "    SVC(class_weight=\"balanced\")  # Handle imbalanced data\n",
    ")\n",
    "\n",
    "# Train the model\n",
    "svc_model.fit(X_train, y_train)\n",
    "\n",
    "# Predict the topics for the test set\n",
    "y_pred_svc = svc_model.predict(X_test)\n",
    "\n",
    "# Evaluate the model\n",
    "print(\"Accuracy:\", accuracy_score(y_test, y_pred_svc))\n",
    "print(\"Classification Report:\\n\", classification_report(y_test, y_pred_svc))\n",
    "\n",
    "# Display the confusion matrix\n",
    "conf_matrix = confusion_matrix(y_test, y_pred_svc, labels=svc_model.classes_)\n",
    "disp = ConfusionMatrixDisplay(confusion_matrix=conf_matrix, display_labels=svc_model.classes_)\n",
    "disp.plot(cmap=\"Blues\")"
   ]
  },
  {
   "cell_type": "markdown",
   "id": "18525cf9",
   "metadata": {},
   "source": [
    "### XGBoost"
   ]
  },
  {
   "cell_type": "code",
   "execution_count": null,
   "id": "e7325be7",
   "metadata": {},
   "outputs": [
    {
     "name": "stderr",
     "output_type": "stream",
     "text": [
      "c:\\Users\\moham\\AppData\\Local\\Programs\\Python\\Python310\\lib\\site-packages\\xgboost\\core.py:158: UserWarning: [01:45:32] WARNING: C:\\buildkite-agent\\builds\\buildkite-windows-cpu-autoscaling-group-i-0ed59c031377d09b8-1\\xgboost\\xgboost-ci-windows\\src\\learner.cc:740: \n",
      "Parameters: { \"use_label_encoder\" } are not used.\n",
      "\n",
      "  warnings.warn(smsg, UserWarning)\n"
     ]
    },
    {
     "name": "stdout",
     "output_type": "stream",
     "text": [
      "Accuracy: 0.9580171977744056\n",
      "Classification Report:\n",
      "               precision    recall  f1-score   support\n",
      "\n",
      "           0       0.98      0.96      0.97       643\n",
      "           1       0.98      0.99      0.98      1042\n",
      "           2       0.73      0.54      0.62        65\n",
      "           3       0.81      0.91      0.86       142\n",
      "           4       0.99      0.94      0.96        85\n",
      "\n",
      "    accuracy                           0.96      1977\n",
      "   macro avg       0.90      0.87      0.88      1977\n",
      "weighted avg       0.96      0.96      0.96      1977\n",
      "\n"
     ]
    },
    {
     "data": {
      "text/plain": [
       "<sklearn.metrics._plot.confusion_matrix.ConfusionMatrixDisplay at 0x2085c6b0940>"
      ]
     },
     "execution_count": 43,
     "metadata": {},
     "output_type": "execute_result"
    },
    {
     "data": {
      "image/png": "[encoded data removed]",
      "text/plain": [
       "<Figure size 640x480 with 2 Axes>"
      ]
     },
     "metadata": {},
     "output_type": "display_data"
    }
   ],
   "source": [
    "# Encode the target labels\n",
    "label_encoder = LabelEncoder()\n",
    "y_train_encoded = label_encoder.fit_transform(y_train)\n",
    "y_test_encoded = label_encoder.transform(y_test)\n",
    "\n",
    "# Create a pipeline that combines the TfidfVectorizer and the XGBoost classifier\n",
    "xgb_model = make_pipeline(\n",
    "    TfidfVectorizer(),\n",
    "    XGBClassifier(\n",
    "        use_label_encoder=False,\n",
    "        eval_metric='mlogloss',\n",
    "        scale_pos_weight=None  # You can adjust this depending on the data\n",
    "    )\n",
    ")\n",
    "\n",
    "# Train the model\n",
    "xgb_model.fit(X_train, y_train_encoded)\n",
    "\n",
    "# Predict the topics for the test set\n",
    "y_pred_xgb_encoded = xgb_model.predict(X_test)\n",
    "\n",
    "# Convert predicted labels back to original labels\n",
    "y_pred_xgb = label_encoder.inverse_transform(y_pred_xgb_encoded)\n",
    "\n",
    "# Evaluate the model\n",
    "print(\"Accuracy:\", accuracy_score(y_test_encoded, y_pred_xgb_encoded))\n",
    "print(\"Classification Report:\\n\", classification_report(y_test_encoded, y_pred_xgb_encoded))\n",
    "\n",
    "# Display the confusion matrix\n",
    "conf_matrix = confusion_matrix(y_test_encoded, y_pred_xgb_encoded, labels=range(len(label_encoder.classes_)))\n",
    "disp = ConfusionMatrixDisplay(confusion_matrix=conf_matrix, display_labels=label_encoder.classes_)\n",
    "disp.plot(cmap=\"Blues\")"
   ]
  },
  {
   "cell_type": "markdown",
   "id": "c760834e",
   "metadata": {},
   "source": [
    "### MLP (Multi Layer Perceptron)"
   ]
  },
  {
   "cell_type": "code",
   "execution_count": 48,
   "id": "323d084d",
   "metadata": {},
   "outputs": [
    {
     "name": "stdout",
     "output_type": "stream",
     "text": [
      "Accuracy: 0.9656044511886697\n",
      "Classification Report:\n",
      "               precision    recall  f1-score   support\n",
      "\n",
      "         acq       0.98      0.98      0.98       643\n",
      "        earn       0.99      0.99      0.99      1042\n",
      "    interest       0.92      0.52      0.67        65\n",
      "    money-fx       0.79      0.96      0.87       142\n",
      "        ship       1.00      0.91      0.95        85\n",
      "\n",
      "    accuracy                           0.97      1977\n",
      "   macro avg       0.93      0.87      0.89      1977\n",
      "weighted avg       0.97      0.97      0.96      1977\n",
      "\n"
     ]
    },
    {
     "data": {
      "text/plain": [
       "<sklearn.metrics._plot.confusion_matrix.ConfusionMatrixDisplay at 0x2085c298130>"
      ]
     },
     "execution_count": 48,
     "metadata": {},
     "output_type": "execute_result"
    },
    {
     "data": {
      "image/png": "[encoded data removed]",
      "text/plain": [
       "<Figure size 640x480 with 2 Axes>"
      ]
     },
     "metadata": {},
     "output_type": "display_data"
    }
   ],
   "source": [
    "# Create a pipeline that combines the TfidfVectorizer and the MLPClassifier\n",
    "mlp_model = make_pipeline(TfidfVectorizer(), MLPClassifier(hidden_layer_sizes=(100,), max_iter=300, random_state=42))\n",
    "\n",
    "# Train the model\n",
    "mlp_model.fit(X_train, y_train)\n",
    "\n",
    "# Predict the topics for the test set\n",
    "y_pred_mlp = mlp_model.predict(X_test)\n",
    "\n",
    "# Evaluate the model\n",
    "print(\"Accuracy:\", accuracy_score(y_test, y_pred_mlp))\n",
    "print(\"Classification Report:\\n\", classification_report(y_test, y_pred_mlp))\n",
    "\n",
    "# Display the confusion matrix\n",
    "conf_matrix = confusion_matrix(y_test, y_pred_mlp, labels=mlp_model.classes_)\n",
    "disp = ConfusionMatrixDisplay(confusion_matrix=conf_matrix, display_labels=mlp_model.classes_)\n",
    "disp.plot(cmap=\"Blues\")"
   ]
  },
  {
   "cell_type": "markdown",
   "id": "54073085",
   "metadata": {},
   "source": [
    "### LLMs approach (Gemini)"
   ]
  },
  {
   "cell_type": "code",
   "execution_count": 82,
   "id": "6ea0fa5e-f1dc-42de-9eac-cce1b8dedd5a",
   "metadata": {
    "tags": []
   },
   "outputs": [],
   "source": [
    "def classify_topic(article_body):\n",
    "    response = generative_multimodal_model.generate_content(\n",
    "        [\n",
    "            f\"Knowing that the topic : Money/Foreign Exchange is (MONEY-FX), Shipping is (SHIP), Interest Rates is (INTEREST), Mergers/Acquisitions is (ACQ), Earnings and Earnings Forecasts is (EARN). Classify the following article into one of these topics: [money-fx, interest, ship, acq, earn].\\nArticle: {article_body}\\nTopic:\"\n",
    "        ]\n",
    "    )\n",
    "    # Nettoyer la réponse pour s'assurer que seul le topic est retourné\n",
    "    return response.text.strip().split()[0]  # Prendre uniquement le premier mot\n",
    "\n",
    "# Processus de classification des articles\n",
    "def classify_articles_gemini(df):\n",
    "    results = []\n",
    "    for idx, row in df.iterrows():\n",
    "        try:\n",
    "            # Prédire le topic directement à partir du BODY\n",
    "            predicted_topic = classify_topic(row[\"BODY\"])\n",
    "            results.append(\n",
    "                {\n",
    "                    \"Article ID\": idx,\n",
    "                    \"True Topic\": row[\"TOPICS\"],\n",
    "                    \"Predicted Topic\": predicted_topic,\n",
    "                }\n",
    "            )\n",
    "        except Exception as e:\n",
    "            print(f\"Error processing Article ID {idx}: {e}\")\n",
    "    return pd.DataFrame(results)\n",
    "\n",
    "# Évaluation des performances\n",
    "def evaluate_performance(results_df):\n",
    "    y_true = results_df[\"True Topic\"]\n",
    "    y_pred = results_df[\"Predicted Topic\"]\n",
    "    \n",
    "    # Calculer et afficher l'accuracy\n",
    "    accuracy = accuracy_score(y_true, y_pred)\n",
    "    print(f\"Accuracy: {accuracy:.2f}\")\n",
    "\n",
    "    # Afficher les métriques de classification\n",
    "    print(\"Classification Report:\")\n",
    "    print(classification_report(y_true, y_pred))\n"
   ]
  },
  {
   "cell_type": "code",
   "execution_count": 83,
   "id": "3d209d0d-30e8-4814-bffb-90ba5b0b7db0",
   "metadata": {
    "tags": []
   },
   "outputs": [],
   "source": [
    "# Charger les données test depuis le lewissplit\n",
    "test_df = df_cleaned[df_cleaned[\"LEWISSPLIT\"] == \"TEST\"]\n",
    "\n",
    "# Classification des articles\n",
    "classification_results = classify_articles_gemini(test_df)"
   ]
  },
  {
   "cell_type": "code",
   "execution_count": 84,
   "id": "a242ffc0-27e8-46c4-bdfb-386556703bde",
   "metadata": {
    "tags": []
   },
   "outputs": [
    {
     "data": {
      "text/plain": [
       "1977"
      ]
     },
     "execution_count": 84,
     "metadata": {},
     "output_type": "execute_result"
    }
   ],
   "source": [
    "len(classification_results)"
   ]
  },
  {
   "cell_type": "code",
   "execution_count": 87,
   "id": "1a97466e-d9d1-4789-b576-5e8648814014",
   "metadata": {
    "tags": []
   },
   "outputs": [],
   "source": [
    "classification_results[\"True Topic\"] = classification_results[\"True Topic\"].str.upper()\n",
    "classification_results[\"Predicted Topic\"] = classification_results[\"Predicted Topic\"].str.upper()"
   ]
  },
  {
   "cell_type": "code",
   "execution_count": 92,
   "id": "0f3cfa35-10cd-4781-9b9b-d9aa86db39bb",
   "metadata": {
    "tags": []
   },
   "outputs": [
    {
     "data": {
      "text/plain": [
       "Predicted Topic\n",
       "EARN        1029\n",
       "ACQ          654\n",
       "MONEY-FX     110\n",
       "INTEREST     100\n",
       "SHIP          79\n",
       "NONE           4\n",
       "THE            1\n",
       "Name: count, dtype: int64"
      ]
     },
     "execution_count": 92,
     "metadata": {},
     "output_type": "execute_result"
    }
   ],
   "source": [
    "classification_results[\"Predicted Topic\"].value_counts()"
   ]
  },
  {
   "cell_type": "code",
   "execution_count": 93,
   "id": "aaeafd32-b122-4fb2-879d-1a60fa865c7f",
   "metadata": {
    "tags": []
   },
   "outputs": [
    {
     "name": "stdout",
     "output_type": "stream",
     "text": [
      "Predicted Topic\n",
      "EARN        1029\n",
      "ACQ          654\n",
      "MONEY-FX     110\n",
      "INTEREST     100\n",
      "SHIP          79\n",
      "Name: count, dtype: int64\n"
     ]
    }
   ],
   "source": [
    "# Liste des topics valides\n",
    "valid_topics = [\"MONEY-FX\", \"INTEREST\", \"SHIP\", \"ACQ\", \"EARN\"]\n",
    "\n",
    "# Filtrer les prédictions non pertinentes\n",
    "classification_results[\"Predicted Topic\"] = classification_results[\"Predicted Topic\"].apply(\n",
    "    lambda x: x if x in valid_topics else \"UNKNOWN\"\n",
    ")\n",
    "\n",
    "# Supprimer les lignes avec des prédictions \"UNKNOWN\" pour éviter les biais dans l'évaluation\n",
    "filtered_results = classification_results[classification_results[\"Predicted Topic\"] != \"UNKNOWN\"]\n",
    "\n",
    "# Vérifier la distribution des topics après filtrage\n",
    "print(filtered_results[\"Predicted Topic\"].value_counts())"
   ]
  },
  {
   "cell_type": "code",
   "execution_count": 94,
   "id": "abb3e258-01c6-459d-b514-4748d084088d",
   "metadata": {
    "tags": []
   },
   "outputs": [
    {
     "name": "stdout",
     "output_type": "stream",
     "text": [
      "Accuracy: 0.97\n",
      "Classification Report:\n",
      "              precision    recall  f1-score   support\n",
      "\n",
      "         ACQ       0.97      1.00      0.98       640\n",
      "        EARN       1.00      0.98      0.99      1045\n",
      "    INTEREST       0.60      0.92      0.73        65\n",
      "    MONEY-FX       0.93      0.72      0.81       142\n",
      "        SHIP       1.00      0.99      0.99        80\n",
      "\n",
      "    accuracy                           0.97      1972\n",
      "   macro avg       0.90      0.92      0.90      1972\n",
      "weighted avg       0.97      0.97      0.97      1972\n",
      "\n"
     ]
    }
   ],
   "source": [
    "# Évaluer les performances uniquement sur les données valides\n",
    "evaluate_performance(filtered_results)"
   ]
  },
  {
   "cell_type": "markdown",
   "id": "908debc0",
   "metadata": {},
   "source": [
    "## Bonus \n",
    "Prédire les topics des articles ayant un body non vide et un topic non renseigné."
   ]
  },
  {
   "cell_type": "code",
   "execution_count": null,
   "id": "e3ae9e6a-039f-4f8c-9df3-a24043701adc",
   "metadata": {
    "tags": []
   },
   "outputs": [],
   "source": [
    "# Directory containing the .sgm files\n",
    "directory = 'reuters21578'\n",
    "\n",
    "# Process all .sgm files and create a DataFrame\n",
    "df = process_all_sgm_files(directory)\n",
    "\n",
    "# Supprimer les articles sans body\n",
    "df = df.dropna(subset=['BODY'])\n",
    "\n",
    "# Étape 1 : Filtrer les articles sans topics\n",
    "missing_topics_df = df[df[\"TOPICS\"].apply(lambda x: x == [])]"
   ]
  },
  {
   "cell_type": "code",
   "execution_count": 100,
   "id": "360b4408-26d8-47ae-b55a-902bedf1161c",
   "metadata": {
    "tags": []
   },
   "outputs": [
    {
     "data": {
      "text/html": [
       "<div>\n",
       "<style scoped>\n",
       "    .dataframe tbody tr th:only-of-type {\n",
       "        vertical-align: middle;\n",
       "    }\n",
       "\n",
       "    .dataframe tbody tr th {\n",
       "        vertical-align: top;\n",
       "    }\n",
       "\n",
       "    .dataframe thead th {\n",
       "        text-align: right;\n",
       "    }\n",
       "</style>\n",
       "<table border=\"1\" class=\"dataframe\">\n",
       "  <thead>\n",
       "    <tr style=\"text-align: right;\">\n",
       "      <th></th>\n",
       "      <th>TITLE</th>\n",
       "      <th>LEWISSPLIT</th>\n",
       "      <th>PLACES</th>\n",
       "      <th>DATE</th>\n",
       "      <th>DATELINE</th>\n",
       "      <th>BODY</th>\n",
       "      <th>TOPICS</th>\n",
       "    </tr>\n",
       "  </thead>\n",
       "  <tbody>\n",
       "    <tr>\n",
       "      <th>17184</th>\n",
       "      <td>U.S. CREDIT MARKET OUTLOOK - BUDGET DEFICIT</td>\n",
       "      <td>TRAIN</td>\n",
       "      <td>[]</td>\n",
       "      <td>20-MAR-1987 08:09:53.54</td>\n",
       "      <td>NEW YORK, March 20 -</td>\n",
       "      <td>Economists' forecasts vary widely for\\nthe Feb...</td>\n",
       "      <td>[]</td>\n",
       "    </tr>\n",
       "    <tr>\n",
       "      <th>19492</th>\n",
       "      <td>AMR &lt;AMR&gt; AMERICAN AIR OFFERS TO SHIFT FLIGHTS</td>\n",
       "      <td>TEST</td>\n",
       "      <td>[usa]</td>\n",
       "      <td>9-APR-1987 15:51:46.57</td>\n",
       "      <td>DALLAS, April 9 -</td>\n",
       "      <td>AMR Corp's American Airlines said it is\\nprepa...</td>\n",
       "      <td>[]</td>\n",
       "    </tr>\n",
       "    <tr>\n",
       "      <th>5804</th>\n",
       "      <td>SOUTHWEST AIR &lt;LUV&gt; UNIT ADDS HOUSTON NONSTOPS</td>\n",
       "      <td>TRAIN</td>\n",
       "      <td>[usa]</td>\n",
       "      <td>11-MAR-1987 13:16:32.67</td>\n",
       "      <td>HOUSTON, March 11 -</td>\n",
       "      <td>Southwest Airlines Co's TranStar\\nAirlines Cor...</td>\n",
       "      <td>[]</td>\n",
       "    </tr>\n",
       "  </tbody>\n",
       "</table>\n",
       "</div>"
      ],
      "text/plain": [
       "                                                TITLE LEWISSPLIT PLACES  \\\n",
       "17184     U.S. CREDIT MARKET OUTLOOK - BUDGET DEFICIT      TRAIN     []   \n",
       "19492  AMR <AMR> AMERICAN AIR OFFERS TO SHIFT FLIGHTS       TEST  [usa]   \n",
       "5804   SOUTHWEST AIR <LUV> UNIT ADDS HOUSTON NONSTOPS      TRAIN  [usa]   \n",
       "\n",
       "                          DATE                   DATELINE  \\\n",
       "17184  20-MAR-1987 08:09:53.54      NEW YORK, March 20 -    \n",
       "19492   9-APR-1987 15:51:46.57         DALLAS, April 9 -    \n",
       "5804   11-MAR-1987 13:16:32.67       HOUSTON, March 11 -    \n",
       "\n",
       "                                                    BODY TOPICS  \n",
       "17184  Economists' forecasts vary widely for\\nthe Feb...     []  \n",
       "19492  AMR Corp's American Airlines said it is\\nprepa...     []  \n",
       "5804   Southwest Airlines Co's TranStar\\nAirlines Cor...     []  "
      ]
     },
     "execution_count": 100,
     "metadata": {},
     "output_type": "execute_result"
    }
   ],
   "source": [
    "missing_topics_df.sample(3)"
   ]
  },
  {
   "cell_type": "code",
   "execution_count": 118,
   "id": "e3c6c499-9ca0-4ea7-93ce-336a58c0d9a3",
   "metadata": {
    "tags": []
   },
   "outputs": [],
   "source": [
    "def predict_topic_with_gemini(article_body):\n",
    "    try:\n",
    "        # Générer le topic avec Gemini\n",
    "        response = generative_multimodal_model.generate_content(\n",
    "            [\n",
    "                f\"Knowing that the topic : Money/Foreign Exchange is (MONEY-FX), Shipping is (SHIP), Interest Rates is (INTEREST), Mergers/Acquisitions is (ACQ), Earnings and Earnings Forecasts is (EARN). Classify the following article into one of these topics: [money-fx, interest, ship, acq, earn] (Respond only by the name of the topic).\\n\\nArticle: {article_body}\\n\\nTopic:\"\n",
    "            ]\n",
    "        )\n",
    "        predicted_topic = response.text.strip().upper()\n",
    "        return predicted_topic \n",
    "    except Exception as e:\n",
    "        print(f\"Erreur lors de la prédiction : {e}\")\n",
    "        return \"UNKNOWN\""
   ]
  },
  {
   "cell_type": "code",
   "execution_count": 119,
   "id": "d50414a1-48fa-43b3-9687-81161a3efb33",
   "metadata": {
    "tags": []
   },
   "outputs": [],
   "source": [
    "# Étape 2 : Sélectionner 5 exemples aléatoires\n",
    "examples_to_predict = missing_topics_df.sample(5)\n",
    "\n",
    "# Étape 4 : Prédire les topics pour les exemples\n",
    "examples_to_predict[\"Predicted Topic\"] = examples_to_predict[\"BODY\"].apply(predict_topic_with_gemini)"
   ]
  },
  {
   "cell_type": "code",
   "execution_count": 124,
   "id": "2206b8d0-cf4f-46f6-a24d-587f4c6f2977",
   "metadata": {
    "tags": []
   },
   "outputs": [
    {
     "name": "stdout",
     "output_type": "stream",
     "text": [
      "Bank of Montreal <BMO.M> Chairman\n",
      "William Mulholland said he was reasonably optimistic that debt\n",
      "negotiations between Brazil and its commercial bank creditors\n",
      "can be accomplished satisfactorily in the long run.\n",
      "    \"It's going to be a bit rocky short term ... a couple of\n",
      "months ... but I am reasonably optimistic longer term,\" he told\n",
      "a press briefing here.\n",
      "    Earlier, Mulholland announced that Bank of Montreal has\n",
      "formally applied to swap up to 100 mln dlrs of its roughly one\n",
      "billion dlr cross border exposure to Brazil into local equity\n",
      "investments under a novel conversion scheme.\n",
      "    Tensions have been running high between Brazil and its bank\n",
      "creditors since President Jose Sarney imposed a unilateral\n",
      "suspension of interest payments on some 68 billion dlrs of\n",
      "commercial bank debt on February 20, bankers said.\n",
      "    Only yesterday, three leading U.S. banks voluntarily put\n",
      "their Brazilian loans on non-accrual status and took a hefty\n",
      "cut in net income for the first quarter ended March 31.\n",
      "    Bankers saw this as a clear refusal to be intimidated into\n",
      "granting major concessions as forthcoming refinancing talks.\n",
      "    Bank of Montreal's Mulholland regretted Brazil's action but\n",
      "declined to discuss what action his bank might take.\n",
      "    Mulholland merely said that Bank of Montreal had not\n",
      "canceled any of its short-term credit lines that came up for\n",
      "renewal on March 31.\n",
      "    However, John Bradlow, senior vice president of the\n",
      "corporate and goverment banking division, said that it was\n",
      "possible that Bank of Montreal might follow the U.S. banks'\n",
      "lead in its second quarter results accounting.\n",
      "    \"A decision will be made at April 30 or in the first weeks\n",
      "of May,\" he told reporters after the briefing. Unlike most\n",
      "major U.S. banks, whose reporting year ends on December 31,\n",
      "Canadian banks operate on a November through October basis.\n",
      "    At the press briefing, Mulholland detailed the proposed\n",
      "debt/equity conversion scheme, which is aimed at boosting\n",
      "investment capital and conserving foreign exchange reserves.\n",
      "    Unlike many existing programs, Bank of Montreal intends to\n",
      "sell its own dollar-denominated debt at par to either the\n",
      "obligor or local investors for cruzados, which would then be\n",
      "ploughed into Brazilian assets.\n",
      "    Mulholland said current debt/equity schemes, in which bank\n",
      "debt is often sold to foreign third parties at a discount, were\n",
      "like \"peddling off debt at fire sale prices\". He added that\n",
      "they could do pyschological harm to investor confidence.\n",
      "    While acknowledging that Brazil has yet to give its\n",
      "official blessing to the plan, Mulholland predicted, \"if it is\n",
      "supported, we are going to see more of this.\"\n",
      "    Sources at other large banks with sizeable exposure to\n",
      "Brazil were not so sure about the scheme's success.\n",
      "    \"I don't think it's going to fly because of the impact it\n",
      "would have on money supply and other political reasons,\" said\n",
      "one banker, noting that earlier informal proposals along the\n",
      "same lines received \"fairly neutral responses.\"\n",
      "    \"And is there a market for such investment in a time of\n",
      "great uncertainty,\" he added.\n",
      "    Mulholland admitted, \"it is something of an experiment....\n",
      "some one has to screw up the courage and do something.\"\n",
      "    \"It is very important that avenues (to reversing net\n",
      "capital outflows) are broadened,\" he added, noting that in\n",
      "recent years the options have in fact been narrowing.\n",
      "    Another senior banker agreed that debt/equity swap\n",
      "proposals, such as Bank of Montreal's, should be explored and\n",
      "developed but warned that Brasilia has been \"very ambivalent\"\n",
      "about debt/equity schemes thus far.\n",
      "    The banker added, \"debt/equity conversion should happen but\n",
      "it is not a major instrument for solving debt problems.\"\n",
      " Reuter\n",
      "\u0003\n",
      "MONEY-FX\n"
     ]
    }
   ],
   "source": [
    "# Étape 5 : Afficher les résultats\n",
    "print(examples_to_predict[\"BODY\"].iloc[0])\n",
    "\n",
    "print(examples_to_predict[\"Predicted Topic\"].iloc[0])"
   ]
  }
 ],
 "metadata": {
  "environment": {
   "kernel": "conda-base-py",
   "name": "workbench-notebooks.m125",
   "type": "gcloud",
   "uri": "us-docker.pkg.dev/deeplearning-platform-release/gcr.io/workbench-notebooks:m125"
  },
  "kernelspec": {
   "display_name": "Python 3",
   "language": "python",
   "name": "python3"
  },
  "language_info": {
   "codemirror_mode": {
    "name": "ipython",
    "version": 3
   },
   "file_extension": ".py",
   "mimetype": "text/x-python",
   "name": "python",
   "nbconvert_exporter": "python",
   "pygments_lexer": "ipython3",
   "version": "3.10.5"
  }
 },
 "nbformat": 4,
 "nbformat_minor": 5
}
